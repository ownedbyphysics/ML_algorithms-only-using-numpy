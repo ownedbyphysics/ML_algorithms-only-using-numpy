{
 "cells": [
  {
   "cell_type": "markdown",
   "id": "e6365410-8cc3-4b36-a7ef-1bc4547d2433",
   "metadata": {
    "tags": []
   },
   "source": [
    "<h3> Train a Neural Network only using numpy"
   ]
  },
  {
   "cell_type": "code",
   "execution_count": 243,
   "id": "398e9d4f-ce53-43d4-80ed-1f94d2bf5e96",
   "metadata": {
    "tags": []
   },
   "outputs": [],
   "source": [
    "import numpy as np\n",
    "import pandas as pd\n",
    "from matplotlib import pyplot as plt"
   ]
  },
  {
   "cell_type": "code",
   "execution_count": 244,
   "id": "2af84350-4318-4081-a0b7-38e0a8d68838",
   "metadata": {
    "tags": []
   },
   "outputs": [
    {
     "data": {
      "text/plain": [
       "(42000, 785)"
      ]
     },
     "metadata": {},
     "output_type": "display_data"
    },
    {
     "data": {
      "text/html": [
       "<div>\n",
       "<style scoped>\n",
       "    .dataframe tbody tr th:only-of-type {\n",
       "        vertical-align: middle;\n",
       "    }\n",
       "\n",
       "    .dataframe tbody tr th {\n",
       "        vertical-align: top;\n",
       "    }\n",
       "\n",
       "    .dataframe thead th {\n",
       "        text-align: right;\n",
       "    }\n",
       "</style>\n",
       "<table border=\"1\" class=\"dataframe\">\n",
       "  <thead>\n",
       "    <tr style=\"text-align: right;\">\n",
       "      <th></th>\n",
       "      <th>label</th>\n",
       "      <th>pixel0</th>\n",
       "      <th>pixel1</th>\n",
       "      <th>pixel2</th>\n",
       "      <th>pixel3</th>\n",
       "      <th>pixel4</th>\n",
       "      <th>pixel5</th>\n",
       "      <th>pixel6</th>\n",
       "      <th>pixel7</th>\n",
       "      <th>pixel8</th>\n",
       "      <th>...</th>\n",
       "      <th>pixel774</th>\n",
       "      <th>pixel775</th>\n",
       "      <th>pixel776</th>\n",
       "      <th>pixel777</th>\n",
       "      <th>pixel778</th>\n",
       "      <th>pixel779</th>\n",
       "      <th>pixel780</th>\n",
       "      <th>pixel781</th>\n",
       "      <th>pixel782</th>\n",
       "      <th>pixel783</th>\n",
       "    </tr>\n",
       "  </thead>\n",
       "  <tbody>\n",
       "    <tr>\n",
       "      <th>0</th>\n",
       "      <td>1</td>\n",
       "      <td>0</td>\n",
       "      <td>0</td>\n",
       "      <td>0</td>\n",
       "      <td>0</td>\n",
       "      <td>0</td>\n",
       "      <td>0</td>\n",
       "      <td>0</td>\n",
       "      <td>0</td>\n",
       "      <td>0</td>\n",
       "      <td>...</td>\n",
       "      <td>0</td>\n",
       "      <td>0</td>\n",
       "      <td>0</td>\n",
       "      <td>0</td>\n",
       "      <td>0</td>\n",
       "      <td>0</td>\n",
       "      <td>0</td>\n",
       "      <td>0</td>\n",
       "      <td>0</td>\n",
       "      <td>0</td>\n",
       "    </tr>\n",
       "    <tr>\n",
       "      <th>1</th>\n",
       "      <td>0</td>\n",
       "      <td>0</td>\n",
       "      <td>0</td>\n",
       "      <td>0</td>\n",
       "      <td>0</td>\n",
       "      <td>0</td>\n",
       "      <td>0</td>\n",
       "      <td>0</td>\n",
       "      <td>0</td>\n",
       "      <td>0</td>\n",
       "      <td>...</td>\n",
       "      <td>0</td>\n",
       "      <td>0</td>\n",
       "      <td>0</td>\n",
       "      <td>0</td>\n",
       "      <td>0</td>\n",
       "      <td>0</td>\n",
       "      <td>0</td>\n",
       "      <td>0</td>\n",
       "      <td>0</td>\n",
       "      <td>0</td>\n",
       "    </tr>\n",
       "    <tr>\n",
       "      <th>2</th>\n",
       "      <td>1</td>\n",
       "      <td>0</td>\n",
       "      <td>0</td>\n",
       "      <td>0</td>\n",
       "      <td>0</td>\n",
       "      <td>0</td>\n",
       "      <td>0</td>\n",
       "      <td>0</td>\n",
       "      <td>0</td>\n",
       "      <td>0</td>\n",
       "      <td>...</td>\n",
       "      <td>0</td>\n",
       "      <td>0</td>\n",
       "      <td>0</td>\n",
       "      <td>0</td>\n",
       "      <td>0</td>\n",
       "      <td>0</td>\n",
       "      <td>0</td>\n",
       "      <td>0</td>\n",
       "      <td>0</td>\n",
       "      <td>0</td>\n",
       "    </tr>\n",
       "    <tr>\n",
       "      <th>3</th>\n",
       "      <td>4</td>\n",
       "      <td>0</td>\n",
       "      <td>0</td>\n",
       "      <td>0</td>\n",
       "      <td>0</td>\n",
       "      <td>0</td>\n",
       "      <td>0</td>\n",
       "      <td>0</td>\n",
       "      <td>0</td>\n",
       "      <td>0</td>\n",
       "      <td>...</td>\n",
       "      <td>0</td>\n",
       "      <td>0</td>\n",
       "      <td>0</td>\n",
       "      <td>0</td>\n",
       "      <td>0</td>\n",
       "      <td>0</td>\n",
       "      <td>0</td>\n",
       "      <td>0</td>\n",
       "      <td>0</td>\n",
       "      <td>0</td>\n",
       "    </tr>\n",
       "    <tr>\n",
       "      <th>4</th>\n",
       "      <td>0</td>\n",
       "      <td>0</td>\n",
       "      <td>0</td>\n",
       "      <td>0</td>\n",
       "      <td>0</td>\n",
       "      <td>0</td>\n",
       "      <td>0</td>\n",
       "      <td>0</td>\n",
       "      <td>0</td>\n",
       "      <td>0</td>\n",
       "      <td>...</td>\n",
       "      <td>0</td>\n",
       "      <td>0</td>\n",
       "      <td>0</td>\n",
       "      <td>0</td>\n",
       "      <td>0</td>\n",
       "      <td>0</td>\n",
       "      <td>0</td>\n",
       "      <td>0</td>\n",
       "      <td>0</td>\n",
       "      <td>0</td>\n",
       "    </tr>\n",
       "  </tbody>\n",
       "</table>\n",
       "<p>5 rows × 785 columns</p>\n",
       "</div>"
      ],
      "text/plain": [
       "   label  pixel0  pixel1  pixel2  pixel3  pixel4  pixel5  pixel6  pixel7  \\\n",
       "0      1       0       0       0       0       0       0       0       0   \n",
       "1      0       0       0       0       0       0       0       0       0   \n",
       "2      1       0       0       0       0       0       0       0       0   \n",
       "3      4       0       0       0       0       0       0       0       0   \n",
       "4      0       0       0       0       0       0       0       0       0   \n",
       "\n",
       "   pixel8  ...  pixel774  pixel775  pixel776  pixel777  pixel778  pixel779  \\\n",
       "0       0  ...         0         0         0         0         0         0   \n",
       "1       0  ...         0         0         0         0         0         0   \n",
       "2       0  ...         0         0         0         0         0         0   \n",
       "3       0  ...         0         0         0         0         0         0   \n",
       "4       0  ...         0         0         0         0         0         0   \n",
       "\n",
       "   pixel780  pixel781  pixel782  pixel783  \n",
       "0         0         0         0         0  \n",
       "1         0         0         0         0  \n",
       "2         0         0         0         0  \n",
       "3         0         0         0         0  \n",
       "4         0         0         0         0  \n",
       "\n",
       "[5 rows x 785 columns]"
      ]
     },
     "metadata": {},
     "output_type": "display_data"
    }
   ],
   "source": [
    "data = pd.read_csv('MNIST_train.csv')\n",
    "display(data.shape, data.head())"
   ]
  },
  {
   "cell_type": "markdown",
   "id": "45fecf1e-a214-4fe5-b0be-180122fa2ecf",
   "metadata": {},
   "source": [
    "<h3> Basic preprocessing of the data"
   ]
  },
  {
   "cell_type": "code",
   "execution_count": 227,
   "id": "a5f53fcb-4d01-42e6-9fbc-fb1c31af0718",
   "metadata": {
    "tags": []
   },
   "outputs": [],
   "source": [
    "# Shuffle dataset before splitting to train and validation\n",
    "data = data.sample(frac=1)"
   ]
  },
  {
   "cell_type": "code",
   "execution_count": 248,
   "id": "039f8d9b-299a-4264-a9e4-385f4c2ac2e0",
   "metadata": {
    "tags": []
   },
   "outputs": [
    {
     "name": "stdout",
     "output_type": "stream",
     "text": [
      "[[1 0 0 ... 0 0 0]\n",
      " [0 0 0 ... 0 0 0]\n",
      " [1 0 0 ... 0 0 0]\n",
      " ...\n",
      " [7 0 0 ... 0 0 0]\n",
      " [6 0 0 ... 0 0 0]\n",
      " [9 0 0 ... 0 0 0]] \n",
      "\n",
      " (42000, 785)\n"
     ]
    }
   ],
   "source": [
    "data = np.array(data)\n",
    "print(data, '\\n''\\n', data.shape)"
   ]
  },
  {
   "cell_type": "code",
   "execution_count": 229,
   "id": "886ca6f9-ebc7-4d62-8278-7ac9fb5977ce",
   "metadata": {
    "tags": []
   },
   "outputs": [
    {
     "name": "stdout",
     "output_type": "stream",
     "text": [
      "42000 785\n"
     ]
    }
   ],
   "source": [
    "# 42k images with 784 pixels each (+1 label dimension)\n",
    "m, n = data.shape\n",
    "print(m, n)"
   ]
  },
  {
   "cell_type": "code",
   "execution_count": 249,
   "id": "187d879f-ad9c-403a-981d-6d704daf5207",
   "metadata": {
    "tags": []
   },
   "outputs": [
    {
     "name": "stdout",
     "output_type": "stream",
     "text": [
      "train data dimensions: (785, 41000)\n",
      "X train dimensions: (784, 41000)\n",
      "Y train dimensions: (41000,)\n"
     ]
    }
   ],
   "source": [
    "#split to validation and train sets\n",
    "\n",
    "train_data = data[1000:m]\n",
    "train_data = train_data.T\n",
    "Y_train = train_data[0]\n",
    "X_train = train_data[1:n] #skip label dimension\n",
    "X_train = X_train/255 # normalize the pixel intensities to the range [0, 1]\n",
    "val_data = data[0:1000]\n",
    "val_data = val_data.T\n",
    "Y_val = val_data[0]\n",
    "X_val = val_data[1:n]/255\n",
    "\n",
    "print(\"train data dimensions:\", train_data.shape) \n",
    "print(\"X train dimensions:\", X_train.shape) \n",
    "print(\"Y train dimensions:\", Y_train.shape) "
   ]
  },
  {
   "cell_type": "markdown",
   "id": "881c5a54-76cd-42d4-9d9d-40c5b01de7d9",
   "metadata": {
    "tags": []
   },
   "source": [
    "<h3> Basic functions for the every training phase"
   ]
  },
  {
   "cell_type": "code",
   "execution_count": 273,
   "id": "b50c1932-421e-455b-8c6d-67ff9816d060",
   "metadata": {
    "tags": []
   },
   "outputs": [],
   "source": [
    "def init_parameters():\n",
    "    \"\"\"\n",
    "    Initialize the parameters for a two-layer neural network around zero\n",
    "    \"\"\"\n",
    "    W1 = np.random.rand(10, 784) - 0.5\n",
    "    b1 = np.random.rand(10, 1) - 0.5 \n",
    "    W2 = np.random.rand(10, 10) - 0.5\n",
    "    b2 = np.random.rand(10, 1) - 0.5\n",
    "    return W1, b1, W2, b2\n",
    "\n",
    "def ReLU(x):   \n",
    "    \"\"\"\n",
    "    Compute the Rectified Linear Unit (ReLU) activation function.\n",
    "    \"\"\"\n",
    "    return np.maximum(0, x)\n",
    "\n",
    "def softmax(x):\n",
    "    \"\"\"\n",
    "    Compute the softmax activation function.\n",
    "    \"\"\"\n",
    "    # Ensure numerical stability by subtracting the maximum value\n",
    "    exp_x = np.exp(x)\n",
    "    A = exp_x / sum(exp_x) \n",
    "    return A\n",
    "\n",
    "def forward_propagation(W1, b1, W2, b2, X):\n",
    "    \"\"\"\n",
    "    Input data undergoing weighted summations \n",
    "    and activation function transformations\n",
    "    \"\"\"\n",
    "    Z1 = W1.dot(X) + b1\n",
    "    A1 = ReLU(Z1)\n",
    "    Z2 = W2.dot(A1) + b2\n",
    "    A2 = softmax(Z2)\n",
    "    \n",
    "    return Z1, A1, Z2, A2\n",
    "\n",
    "def one_hot(Y):\n",
    "    \"\"\"\n",
    "    Converts a vector of class labels Y into \n",
    "    a one-hot encoded matrix where each column \n",
    "    represents a class, and for each sample.\n",
    "    Only the column corresponding to its \n",
    "    class label contains a 1, \n",
    "    while all other columns contain 0s.\n",
    "    \"\"\"\n",
    "    one_hot_Y = np.zeros((Y.size, Y.max() + 1))\n",
    "    one_hot_Y[np.arange(Y.size), Y] = 1\n",
    "    one_hot_Y = one_hot_Y.T\n",
    "    return one_hot_Y\n",
    "\n",
    "def ReLU_derivative(x):\n",
    "    return x > 0\n",
    "\n",
    "def back_propagation(Z1, A1, Z2, A2, W2, X, Y):\n",
    "    \"\"\"\n",
    "    How much the weights and biases contributed to\n",
    "    the deviation of the prediction from the label\n",
    "    \"\"\"\n",
    "    m = Y.size\n",
    "    one_hot_Y = one_hot(Y)\n",
    "    dZ2 = A2 - one_hot_Y\n",
    "    dW2 = 1 / m * dZ2.dot(A1.T)\n",
    "    db2 = 1 / m * np.sum(dZ2) \n",
    "    dZ1 = W2.T.dot(dZ2) * ReLU_derivative(Z1)\n",
    "    dW1 = 1 / m * dZ1.dot(X.T)\n",
    "    db1 = 1 / m * np.sum(dZ1)\n",
    "    return dW1, db1, dW2, db2\n",
    "    \n",
    "def update_parameters(W1, b1, W2, b2, dW1, db1, dW2, db2, alpha):\n",
    "    \"\"\"\n",
    "    Update the parameters of a two-layer neural network.\n",
    "    \"\"\"\n",
    "    W1 = W1 - alpha * dW1\n",
    "    b1 = b1 - alpha * db1    \n",
    "    W2 = W2 - alpha * dW2  \n",
    "    b2 = b2 - alpha * db2    \n",
    "    return W1, b1, W2, b2\n",
    "\n",
    "def get_predictions(A2):\n",
    "    return np.argmax(A2, 0)\n",
    "\n",
    "def get_accuracy(predictions, Y):\n",
    "    return np.sum(predictions == Y) / Y.size"
   ]
  },
  {
   "cell_type": "code",
   "execution_count": 275,
   "id": "b5ac15cb-8559-4ebc-bc69-a2dfe09abc25",
   "metadata": {
    "tags": []
   },
   "outputs": [],
   "source": [
    "def gradient_descent(X, Y, alpha, iterations, tolerance=0.01):\n",
    "    \"\"\"\n",
    "    Function to train the NN. Forwards the input, backwards the error and \n",
    "    updates the parameters. Incorporates also an early stop functionality through\n",
    "    tolerence parameters.\n",
    "    \"\"\"\n",
    "    W1, b1, W2, b2 = init_parameters()\n",
    "    accuracies =[0]\n",
    "    accuracy_per_epoch = {}\n",
    "    for i in range(iterations):\n",
    "        Z1, A1, Z2, A2 = forward_propagation(W1, b1, W2, b2, X)\n",
    "        dW1, db1, dW2, db2 = back_propagation(Z1, A1, Z2, A2, W2, X, Y)\n",
    "        W1, b1, W2, b2 = update_parameters(W1, b1, W2, b2, dW1, db1, dW2, db2, alpha)\n",
    "             \n",
    "        if i % 50 == 0:\n",
    "            print(\"Iteration: \", i)\n",
    "            predictions = get_predictions(A2)\n",
    "            accuracy = get_accuracy(get_predictions(A2), Y)\n",
    "            print(\"Accuracy:\", accuracy)\n",
    "            \n",
    "            accuracy_per_epoch[i] = accuracy\n",
    "            if accuracy - accuracies[-1] >=  tolerance:\n",
    "                accuracies.append(accuracy)\n",
    "            else:\n",
    "                print('stopped training')\n",
    "                break       \n",
    "            \n",
    "    return W1, b1, W2, b2, accuracy_per_epoch"
   ]
  },
  {
   "cell_type": "markdown",
   "id": "9e748dd0-0749-4ed4-9bbe-c4794044a94f",
   "metadata": {},
   "source": [
    "<h3> Display training results"
   ]
  },
  {
   "cell_type": "code",
   "execution_count": 276,
   "id": "d1129c1a-3940-4d0e-8ef3-c9bf1999de5a",
   "metadata": {
    "tags": []
   },
   "outputs": [
    {
     "name": "stdout",
     "output_type": "stream",
     "text": [
      "Iteration:  0\n",
      "Accuracy: 0.07741463414634146\n",
      "Iteration:  50\n",
      "Accuracy: 0.41673170731707315\n",
      "Iteration:  100\n",
      "Accuracy: 0.6114390243902439\n",
      "Iteration:  150\n",
      "Accuracy: 0.7017073170731707\n",
      "Iteration:  200\n",
      "Accuracy: 0.7480731707317073\n",
      "Iteration:  250\n",
      "Accuracy: 0.7790975609756098\n",
      "Iteration:  300\n",
      "Accuracy: 0.8006341463414635\n",
      "Iteration:  350\n",
      "Accuracy: 0.8162195121951219\n",
      "Iteration:  400\n",
      "Accuracy: 0.8279024390243902\n",
      "Iteration:  450\n",
      "Accuracy: 0.8360243902439024\n",
      "stopped training\n"
     ]
    }
   ],
   "source": [
    "W1, b1, W2, b2, accuracy_per_epoch = gradient_descent(X_train, Y_train, 0.1, 800)"
   ]
  },
  {
   "cell_type": "markdown",
   "id": "55d10576-318c-4a86-8c4e-e437fe1128d4",
   "metadata": {},
   "source": [
    "as seen the training stopped at around half of the epoch number set for the function"
   ]
  },
  {
   "cell_type": "code",
   "execution_count": 278,
   "id": "2c0d3d41-f95b-4cc0-81a6-283a59751a26",
   "metadata": {
    "tags": []
   },
   "outputs": [
    {
     "data": {
      "image/png": "[encoded data removed]",
      "text/plain": [
       "<Figure size 800x600 with 1 Axes>"
      ]
     },
     "metadata": {},
     "output_type": "display_data"
    }
   ],
   "source": [
    "epochs = list(accuracy_per_epoch.keys())\n",
    "accuracies = list(accuracy_per_epoch.values())\n",
    "\n",
    "plt.figure(figsize=(8, 6))\n",
    "plt.plot(epochs, accuracies, marker='o', linestyle='--', color='red')\n",
    "plt.title('Accuracy per Epoch')\n",
    "plt.xlabel('Epochs')\n",
    "plt.ylabel('Accuracy')\n",
    "plt.grid(True)\n",
    "plt.show()"
   ]
  },
  {
   "cell_type": "markdown",
   "id": "d5a4b27f-1e64-46eb-ab39-45fe59440f39",
   "metadata": {},
   "source": [
    "<h3> Test on the validation dataset"
   ]
  },
  {
   "cell_type": "code",
   "execution_count": 279,
   "id": "31c42595-4ec8-46bb-becf-4f24065dfd8d",
   "metadata": {
    "tags": []
   },
   "outputs": [],
   "source": [
    "def make_predictions(X, W1, b1, W2, b2):\n",
    "    _, _, _, A2 = forward_propagation(W1, b1, W2, b2, X)\n",
    "    predictions = get_predictions(A2)\n",
    "    return predictions"
   ]
  },
  {
   "cell_type": "code",
   "execution_count": 280,
   "id": "e440104c-44e3-4f97-8629-b81bd4b9336a",
   "metadata": {
    "tags": []
   },
   "outputs": [
    {
     "name": "stdout",
     "output_type": "stream",
     "text": [
      "test set accuracy: 0.845\n"
     ]
    }
   ],
   "source": [
    "val_predictions = make_predictions(X_val, W1, b1, W2, b2)\n",
    "print('test set accuracy:', get_accuracy(val_predictions, Y_val))"
   ]
  },
  {
   "cell_type": "markdown",
   "id": "2278bb08-6fe0-49f2-bfb1-551172f3c88d",
   "metadata": {
    "tags": []
   },
   "source": [
    "The validation test accuracy is alsmost the same with training so we can assume we have build a model of good generalization and appropriate complexity level"
   ]
  }
 ],
 "metadata": {
  "kernelspec": {
   "display_name": "Python 3 (ipykernel)",
   "language": "python",
   "name": "python3"
  },
  "language_info": {
   "codemirror_mode": {
    "name": "ipython",
    "version": 3
   },
   "file_extension": ".py",
   "mimetype": "text/x-python",
   "name": "python",
   "nbconvert_exporter": "python",
   "pygments_lexer": "ipython3",
   "version": "3.9.17"
  }
 },
 "nbformat": 4,
 "nbformat_minor": 5
}
