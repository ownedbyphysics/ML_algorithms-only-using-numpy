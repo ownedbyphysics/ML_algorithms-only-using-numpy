import numpy as np

def bayesian_linear_regression(X, y, sigma_noise=1.0, prior_mean=None, prior_cov=None):
    """
    Perform Bayesian Linear Regression using closed-form solution.

    Parameters
    ----------
    X : np.ndarray
        Design matrix (n_samples, n_features). Should include bias column if desired.
    y : np.ndarray
        Target vector (n_samples,).
    sigma_noise : float
        Standard deviation of the Gaussian noise in the likelihood.
    prior_mean : np.ndarray or None
        Mean vector of the prior for beta (n_features,). If None, defaults to zeros.
    prior_cov : np.ndarray or None
        Covariance matrix of the prior (n_features, n_features). If None, defaults to identity.

    Returns
    -------
    posterior_mean : np.ndarray
        Mean vector of the posterior distribution of beta.
    posterior_cov : np.ndarray
        Covariance matrix of the posterior distribution of beta.
    """

    n_features = X.shape[1]

    # If no prior mean is given, assume 0
    if prior_mean is None:
        prior_mean = np.zeros(n_features)

    # If no prior covariance is given, use identity matrix
    if prior_cov is None:
        prior_cov = np.eye(n_features)

    # Precision matrices
    prior_precision = np.linalg.inv(prior_cov)
    noise_precision = 1.0 / sigma_noise**2

    # Posterior covariance (Σ_post)
    posterior_cov = np.linalg.inv(prior_precision + noise_precision * X.T @ X)

    # Posterior mean (μ_post)
    posterior_mean = posterior_cov @ (
        prior_precision @ prior_mean + noise_precision * X.T @ y
    )

    return posterior_mean, posterior_cov



if __name__ == "__main__":
    np.random.seed(42)

    # Generate synthetic data
    n_samples = 1000
    X = np.random.rand(n_samples, 1)
    X = np.hstack([np.ones((n_samples, 1)), X])  # Add bias column
    true_beta = np.array([1.0, 2.0])  # Intercept = 1, Slope = 2

    noise = np.random.normal(0, 0.1, size=n_samples)
    y = X @ true_beta + noise

    # Run Bayesian Linear Regression
    beta_mean, beta_cov = bayesian_linear_regression(X, y, sigma_noise=0.1)

    print("Posterior mean of beta:\n", beta_mean)
    print("Posterior covariance of beta:\n", beta_cov)

