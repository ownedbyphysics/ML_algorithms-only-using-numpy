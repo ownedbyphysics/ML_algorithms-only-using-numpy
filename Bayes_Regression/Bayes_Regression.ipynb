{
 "cells": [
  {
   "cell_type": "code",
   "execution_count": 4,
   "id": "f9461974-e456-4529-beeb-55599d902b05",
   "metadata": {},
   "outputs": [],
   "source": [
    "import numpy as np\n",
    "\n",
    "def bayesian_linear_regression(X, y, sigma_noise=1.0, prior_mean=None, prior_cov=None):\n",
    "    \"\"\"\n",
    "    Perform Bayesian Linear Regression using closed-form solution.\n",
    "\n",
    "    Parameters\n",
    "    ----------\n",
    "    X : np.ndarray\n",
    "        Design matrix (n_samples, n_features). Should include bias column if desired.\n",
    "    y : np.ndarray\n",
    "        Target vector (n_samples,).\n",
    "    sigma_noise : float\n",
    "        Standard deviation of the Gaussian noise in the likelihood.\n",
    "    prior_mean : np.ndarray or None\n",
    "        Mean vector of the prior for beta (n_features,). If None, defaults to zeros.\n",
    "    prior_cov : np.ndarray or None\n",
    "        Covariance matrix of the prior (n_features, n_features). If None, defaults to identity.\n",
    "\n",
    "    Returns\n",
    "    -------\n",
    "    posterior_mean : np.ndarray\n",
    "        Mean vector of the posterior distribution of beta.\n",
    "    posterior_cov : np.ndarray\n",
    "        Covariance matrix of the posterior distribution of beta.\n",
    "    \"\"\"\n",
    "\n",
    "    n_features = X.shape[1]\n",
    "\n",
    "    # If no prior mean is given, assume 0\n",
    "    if prior_mean is None:\n",
    "        prior_mean = np.zeros(n_features)\n",
    "\n",
    "    # If no prior covariance is given, use identity matrix\n",
    "    if prior_cov is None:\n",
    "        prior_cov = np.eye(n_features)\n",
    "\n",
    "    # Precision matrices\n",
    "    prior_precision = np.linalg.inv(prior_cov)\n",
    "    noise_precision = 1.0 / sigma_noise**2\n",
    "\n",
    "    # Posterior covariance (Σ_post)\n",
    "    posterior_cov = np.linalg.inv(prior_precision + noise_precision * X.T @ X)\n",
    "\n",
    "    # Posterior mean (μ_post)\n",
    "    posterior_mean = posterior_cov @ (\n",
    "        prior_precision @ prior_mean + noise_precision * X.T @ y\n",
    "    )\n",
    "\n",
    "    return posterior_mean, posterior_cov\n"
   ]
  },
  {
   "cell_type": "code",
   "execution_count": 8,
   "id": "cc5c0d99-6c1d-4d50-a5a8-577939a6a84b",
   "metadata": {},
   "outputs": [
    {
     "name": "stdout",
     "output_type": "stream",
     "text": [
      "Posterior mean of beta:\n",
      " [1.01755327 1.98434725]\n",
      "Posterior covariance of beta:\n",
      " [[ 3.81860175e-05 -5.74931618e-05]\n",
      " [-5.74931618e-05  1.17272755e-04]]\n"
     ]
    }
   ],
   "source": [
    "if __name__ == \"__main__\":\n",
    "    np.random.seed(42)\n",
    "\n",
    "    # Generate synthetic data\n",
    "    n_samples = 1000\n",
    "    X = np.random.rand(n_samples, 1)\n",
    "    X = np.hstack([np.ones((n_samples, 1)), X])  # Add bias column\n",
    "    true_beta = np.array([1.0, 2.0])  # Intercept = 1, Slope = 2\n",
    "\n",
    "    noise = np.random.normal(0, 0.1, size=n_samples)\n",
    "    y = X @ true_beta + noise\n",
    "\n",
    "    # Run Bayesian Linear Regression\n",
    "    beta_mean, beta_cov = bayesian_linear_regression(X, y, sigma_noise=0.1)\n",
    "\n",
    "    print(\"Posterior mean of beta:\\n\", beta_mean)\n",
    "    print(\"Posterior covariance of beta:\\n\", beta_cov)\n"
   ]
  }
 ],
 "metadata": {
  "kernelspec": {
   "display_name": "Python 3 (ipykernel)",
   "language": "python",
   "name": "python3"
  },
  "language_info": {
   "codemirror_mode": {
    "name": "ipython",
    "version": 3
   },
   "file_extension": ".py",
   "mimetype": "text/x-python",
   "name": "python",
   "nbconvert_exporter": "python",
   "pygments_lexer": "ipython3",
   "version": "3.11.7"
  }
 },
 "nbformat": 4,
 "nbformat_minor": 5
}
